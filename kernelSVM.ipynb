{
 "cells": [
  {
   "cell_type": "markdown",
   "metadata": {},
   "source": [
    "<h2>About this Project</h2>\n",
    "<p>In this project, you will implement a kernelized SVM (support vector machine). You will generate linearly separable and non-linearly separable datasets, write functions to SVMs that support a variety of different kernels, and then visualize the decision boundary created.</p>\n",
    "\n",
    "<h3>Evaluation</h3>\n",
    "\n",
    "<p><strong>This project must be successfully completed and submitted in order to receive credit for this course. Your score on this project will be included in your final grade calculation.</strong><p>\n",
    "    \n",
    "<p>You are expected to write code where you see <em># YOUR CODE HERE</em> within the cells of this notebook. Not all cells will be graded; code input cells followed by cells marked with <em>#Autograder test cell</em> will be graded. Upon submitting your work, the code you write at these designated positions will be assessed using an \"autograder\" that will run all test cells to assess your code. You will receive feedback from the autograder that will identify any errors in your code. Use this feedback to improve your code if you need to resubmit. Be sure not to change the names of any provided functions, classes, or variables within the existing code cells, as this will interfere with the autograder. Also, remember to execute all code cells sequentially, not just those you’ve edited, to ensure your code runs properly.</p>\n",
    "    \n",
    "<p>You can resubmit your work as many times as necessary before the submission deadline. If you experience difficulty or have questions about this exercise, use the Q&A discussion board to engage with your peers or seek assistance from the instructor.<p>\n",
    "\n",
    "<p>Before starting your work, please review <a href=\"https://s3.amazonaws.com/ecornell/global/eCornellPlagiarismPolicy.pdf\">eCornell's policy regarding plagiarism</a> (the presentation of someone else's work as your own without source credit).</p>\n",
    "\n",
    "<h3>Submit Code for Autograder Feedback</h3>\n",
    "\n",
    "<p>Once you have completed your work on this notebook, you will submit your code for autograder review. Follow these steps:</p>\n",
    "\n",
    "<ol>\n",
    "  <li><strong>Save your notebook.</strong></li>\n",
    "  <li><strong>Mark as Completed —</strong> In the blue menu bar along the top of this code exercise window, you’ll see a menu item called <strong>Education</strong>. In the <strong>Education</strong> menu, click <strong>Mark as Completed</strong> to submit your code for autograder/instructor review. This process will take a moment and a progress bar will show you the status of your submission.</li>\n",
    "\t<li><strong>Review your results —</strong> Once your work is marked as complete, the results of the autograder will automatically be presented in a new tab within the code exercise window. You can click on the assessment name in this feedback window to see more details regarding specific feedback/errors in your code submission.</li>\n",
    "  <li><strong>Repeat, if necessary —</strong> The Jupyter notebook will always remain accessible in the first tabbed window of the exercise. To reattempt the work, you will first need to click <strong>Mark as Uncompleted</strong> in the <strong>Education</strong> menu and then proceed to make edits to the notebook. Once you are ready to resubmit, follow steps one through three. You can repeat this procedure as many times as necessary.</li>\n",
    "<p>You can also download a copy of this notebook in multiple formats using the <strong>Download as</strong> option in the <strong>File</strong> menu above.</p>"
   ]
  },
  {
   "cell_type": "markdown",
   "metadata": {},
   "source": [
    "<h2>Getting Started</h2>\n",
    "<h3>Python Initialization</h3> \n",
    "\n",
    "Please run the following code to initialize your Python kernel. You should be running a version of Python 3.x. </p>"
   ]
  },
  {
   "cell_type": "code",
   "execution_count": 1,
   "metadata": {
    "nbgrader": {
     "checksum": "30ea34e09ce2fe95d9ffdd861a036f3e",
     "grade": false,
     "grade_id": "cell-6da27a81ca807569",
     "locked": true,
     "schema_version": 1,
     "solution": false
    }
   },
   "outputs": [
    {
     "name": "stdout",
     "output_type": "stream",
     "text": [
      "You're running python 3.6.8\n"
     ]
    }
   ],
   "source": [
    "import numpy as np\n",
    "from helper import *\n",
    "import matplotlib.pyplot as plt\n",
    "import sys\n",
    "\n",
    "print('You\\'re running python %s' % sys.version.split(' ')[0])"
   ]
  },
  {
   "cell_type": "markdown",
   "metadata": {
    "nbgrader": {
     "checksum": "df85ab06febb88b65c6c77c8f2bcef49",
     "grade": false,
     "grade_id": "cell-38378dba31605ea0",
     "locked": true,
     "schema_version": 1,
     "solution": false
    }
   },
   "source": [
    "### Generate and Visualize Data\n",
    "\n",
    "Before we start, let's generate some data and visualize the training set. We are going to use the linearly separable data that we used in our previous project!"
   ]
  },
  {
   "cell_type": "code",
   "execution_count": 2,
   "metadata": {
    "nbgrader": {
     "checksum": "d4249868be9ca4d361db6194c333c81a",
     "grade": false,
     "grade_id": "cell-38e09fdf6da3e10b",
     "locked": true,
     "schema_version": 1,
     "solution": false
    }
   },
   "outputs": [
    {
     "data": {
      "application/javascript": [
       "/* Put everything inside the global mpl namespace */\n",
       "window.mpl = {};\n",
       "\n",
       "\n",
       "mpl.get_websocket_type = function() {\n",
       "    if (typeof(WebSocket) !== 'undefined') {\n",
       "        return WebSocket;\n",
       "    } else if (typeof(MozWebSocket) !== 'undefined') {\n",
       "        return MozWebSocket;\n",
       "    } else {\n",
       "        alert('Your browser does not have WebSocket support.' +\n",
       "              'Please try Chrome, Safari or Firefox ≥ 6. ' +\n",
       "              'Firefox 4 and 5 are also supported but you ' +\n",
       "              'have to enable WebSockets in about:config.');\n",
       "    };\n",
       "}\n",
       "\n",
       "mpl.figure = function(figure_id, websocket, ondownload, parent_element) {\n",
       "    this.id = figure_id;\n",
       "\n",
       "    this.ws = websocket;\n",
       "\n",
       "    this.supports_binary = (this.ws.binaryType != undefined);\n",
       "\n",
       "    if (!this.supports_binary) {\n",
       "        var warnings = document.getElementById(\"mpl-warnings\");\n",
       "        if (warnings) {\n",
       "            warnings.style.display = 'block';\n",
       "            warnings.textContent = (\n",
       "                \"This browser does not support binary websocket messages. \" +\n",
       "                    \"Performance may be slow.\");\n",
       "        }\n",
       "    }\n",
       "\n",
       "    this.imageObj = new Image();\n",
       "\n",
       "    this.context = undefined;\n",
       "    this.message = undefined;\n",
       "    this.canvas = undefined;\n",
       "    this.rubberband_canvas = undefined;\n",
       "    this.rubberband_context = undefined;\n",
       "    this.format_dropdown = undefined;\n",
       "\n",
       "    this.image_mode = 'full';\n",
       "\n",
       "    this.root = $('<div/>');\n",
       "    this._root_extra_style(this.root)\n",
       "    this.root.attr('style', 'display: inline-block');\n",
       "\n",
       "    $(parent_element).append(this.root);\n",
       "\n",
       "    this._init_header(this);\n",
       "    this._init_canvas(this);\n",
       "    this._init_toolbar(this);\n",
       "\n",
       "    var fig = this;\n",
       "\n",
       "    this.waiting = false;\n",
       "\n",
       "    this.ws.onopen =  function () {\n",
       "            fig.send_message(\"supports_binary\", {value: fig.supports_binary});\n",
       "            fig.send_message(\"send_image_mode\", {});\n",
       "            if (mpl.ratio != 1) {\n",
       "                fig.send_message(\"set_dpi_ratio\", {'dpi_ratio': mpl.ratio});\n",
       "            }\n",
       "            fig.send_message(\"refresh\", {});\n",
       "        }\n",
       "\n",
       "    this.imageObj.onload = function() {\n",
       "            if (fig.image_mode == 'full') {\n",
       "                // Full images could contain transparency (where diff images\n",
       "                // almost always do), so we need to clear the canvas so that\n",
       "                // there is no ghosting.\n",
       "                fig.context.clearRect(0, 0, fig.canvas.width, fig.canvas.height);\n",
       "            }\n",
       "            fig.context.drawImage(fig.imageObj, 0, 0);\n",
       "        };\n",
       "\n",
       "    this.imageObj.onunload = function() {\n",
       "        fig.ws.close();\n",
       "    }\n",
       "\n",
       "    this.ws.onmessage = this._make_on_message_function(this);\n",
       "\n",
       "    this.ondownload = ondownload;\n",
       "}\n",
       "\n",
       "mpl.figure.prototype._init_header = function() {\n",
       "    var titlebar = $(\n",
       "        '<div class=\"ui-dialog-titlebar ui-widget-header ui-corner-all ' +\n",
       "        'ui-helper-clearfix\"/>');\n",
       "    var titletext = $(\n",
       "        '<div class=\"ui-dialog-title\" style=\"width: 100%; ' +\n",
       "        'text-align: center; padding: 3px;\"/>');\n",
       "    titlebar.append(titletext)\n",
       "    this.root.append(titlebar);\n",
       "    this.header = titletext[0];\n",
       "}\n",
       "\n",
       "\n",
       "\n",
       "mpl.figure.prototype._canvas_extra_style = function(canvas_div) {\n",
       "\n",
       "}\n",
       "\n",
       "\n",
       "mpl.figure.prototype._root_extra_style = function(canvas_div) {\n",
       "\n",
       "}\n",
       "\n",
       "mpl.figure.prototype._init_canvas = function() {\n",
       "    var fig = this;\n",
       "\n",
       "    var canvas_div = $('<div/>');\n",
       "\n",
       "    canvas_div.attr('style', 'position: relative; clear: both; outline: 0');\n",
       "\n",
       "    function canvas_keyboard_event(event) {\n",
       "        return fig.key_event(event, event['data']);\n",
       "    }\n",
       "\n",
       "    canvas_div.keydown('key_press', canvas_keyboard_event);\n",
       "    canvas_div.keyup('key_release', canvas_keyboard_event);\n",
       "    this.canvas_div = canvas_div\n",
       "    this._canvas_extra_style(canvas_div)\n",
       "    this.root.append(canvas_div);\n",
       "\n",
       "    var canvas = $('<canvas/>');\n",
       "    canvas.addClass('mpl-canvas');\n",
       "    canvas.attr('style', \"left: 0; top: 0; z-index: 0; outline: 0\")\n",
       "\n",
       "    this.canvas = canvas[0];\n",
       "    this.context = canvas[0].getContext(\"2d\");\n",
       "\n",
       "    var backingStore = this.context.backingStorePixelRatio ||\n",
       "\tthis.context.webkitBackingStorePixelRatio ||\n",
       "\tthis.context.mozBackingStorePixelRatio ||\n",
       "\tthis.context.msBackingStorePixelRatio ||\n",
       "\tthis.context.oBackingStorePixelRatio ||\n",
       "\tthis.context.backingStorePixelRatio || 1;\n",
       "\n",
       "    mpl.ratio = (window.devicePixelRatio || 1) / backingStore;\n",
       "\n",
       "    var rubberband = $('<canvas/>');\n",
       "    rubberband.attr('style', \"position: absolute; left: 0; top: 0; z-index: 1;\")\n",
       "\n",
       "    var pass_mouse_events = true;\n",
       "\n",
       "    canvas_div.resizable({\n",
       "        start: function(event, ui) {\n",
       "            pass_mouse_events = false;\n",
       "        },\n",
       "        resize: function(event, ui) {\n",
       "            fig.request_resize(ui.size.width, ui.size.height);\n",
       "        },\n",
       "        stop: function(event, ui) {\n",
       "            pass_mouse_events = true;\n",
       "            fig.request_resize(ui.size.width, ui.size.height);\n",
       "        },\n",
       "    });\n",
       "\n",
       "    function mouse_event_fn(event) {\n",
       "        if (pass_mouse_events)\n",
       "            return fig.mouse_event(event, event['data']);\n",
       "    }\n",
       "\n",
       "    rubberband.mousedown('button_press', mouse_event_fn);\n",
       "    rubberband.mouseup('button_release', mouse_event_fn);\n",
       "    // Throttle sequential mouse events to 1 every 20ms.\n",
       "    rubberband.mousemove('motion_notify', mouse_event_fn);\n",
       "\n",
       "    rubberband.mouseenter('figure_enter', mouse_event_fn);\n",
       "    rubberband.mouseleave('figure_leave', mouse_event_fn);\n",
       "\n",
       "    canvas_div.on(\"wheel\", function (event) {\n",
       "        event = event.originalEvent;\n",
       "        event['data'] = 'scroll'\n",
       "        if (event.deltaY < 0) {\n",
       "            event.step = 1;\n",
       "        } else {\n",
       "            event.step = -1;\n",
       "        }\n",
       "        mouse_event_fn(event);\n",
       "    });\n",
       "\n",
       "    canvas_div.append(canvas);\n",
       "    canvas_div.append(rubberband);\n",
       "\n",
       "    this.rubberband = rubberband;\n",
       "    this.rubberband_canvas = rubberband[0];\n",
       "    this.rubberband_context = rubberband[0].getContext(\"2d\");\n",
       "    this.rubberband_context.strokeStyle = \"#000000\";\n",
       "\n",
       "    this._resize_canvas = function(width, height) {\n",
       "        // Keep the size of the canvas, canvas container, and rubber band\n",
       "        // canvas in synch.\n",
       "        canvas_div.css('width', width)\n",
       "        canvas_div.css('height', height)\n",
       "\n",
       "        canvas.attr('width', width * mpl.ratio);\n",
       "        canvas.attr('height', height * mpl.ratio);\n",
       "        canvas.attr('style', 'width: ' + width + 'px; height: ' + height + 'px;');\n",
       "\n",
       "        rubberband.attr('width', width);\n",
       "        rubberband.attr('height', height);\n",
       "    }\n",
       "\n",
       "    // Set the figure to an initial 600x600px, this will subsequently be updated\n",
       "    // upon first draw.\n",
       "    this._resize_canvas(600, 600);\n",
       "\n",
       "    // Disable right mouse context menu.\n",
       "    $(this.rubberband_canvas).bind(\"contextmenu\",function(e){\n",
       "        return false;\n",
       "    });\n",
       "\n",
       "    function set_focus () {\n",
       "        canvas.focus();\n",
       "        canvas_div.focus();\n",
       "    }\n",
       "\n",
       "    window.setTimeout(set_focus, 100);\n",
       "}\n",
       "\n",
       "mpl.figure.prototype._init_toolbar = function() {\n",
       "    var fig = this;\n",
       "\n",
       "    var nav_element = $('<div/>')\n",
       "    nav_element.attr('style', 'width: 100%');\n",
       "    this.root.append(nav_element);\n",
       "\n",
       "    // Define a callback function for later on.\n",
       "    function toolbar_event(event) {\n",
       "        return fig.toolbar_button_onclick(event['data']);\n",
       "    }\n",
       "    function toolbar_mouse_event(event) {\n",
       "        return fig.toolbar_button_onmouseover(event['data']);\n",
       "    }\n",
       "\n",
       "    for(var toolbar_ind in mpl.toolbar_items) {\n",
       "        var name = mpl.toolbar_items[toolbar_ind][0];\n",
       "        var tooltip = mpl.toolbar_items[toolbar_ind][1];\n",
       "        var image = mpl.toolbar_items[toolbar_ind][2];\n",
       "        var method_name = mpl.toolbar_items[toolbar_ind][3];\n",
       "\n",
       "        if (!name) {\n",
       "            // put a spacer in here.\n",
       "            continue;\n",
       "        }\n",
       "        var button = $('<button/>');\n",
       "        button.addClass('ui-button ui-widget ui-state-default ui-corner-all ' +\n",
       "                        'ui-button-icon-only');\n",
       "        button.attr('role', 'button');\n",
       "        button.attr('aria-disabled', 'false');\n",
       "        button.click(method_name, toolbar_event);\n",
       "        button.mouseover(tooltip, toolbar_mouse_event);\n",
       "\n",
       "        var icon_img = $('<span/>');\n",
       "        icon_img.addClass('ui-button-icon-primary ui-icon');\n",
       "        icon_img.addClass(image);\n",
       "        icon_img.addClass('ui-corner-all');\n",
       "\n",
       "        var tooltip_span = $('<span/>');\n",
       "        tooltip_span.addClass('ui-button-text');\n",
       "        tooltip_span.html(tooltip);\n",
       "\n",
       "        button.append(icon_img);\n",
       "        button.append(tooltip_span);\n",
       "\n",
       "        nav_element.append(button);\n",
       "    }\n",
       "\n",
       "    var fmt_picker_span = $('<span/>');\n",
       "\n",
       "    var fmt_picker = $('<select/>');\n",
       "    fmt_picker.addClass('mpl-toolbar-option ui-widget ui-widget-content');\n",
       "    fmt_picker_span.append(fmt_picker);\n",
       "    nav_element.append(fmt_picker_span);\n",
       "    this.format_dropdown = fmt_picker[0];\n",
       "\n",
       "    for (var ind in mpl.extensions) {\n",
       "        var fmt = mpl.extensions[ind];\n",
       "        var option = $(\n",
       "            '<option/>', {selected: fmt === mpl.default_extension}).html(fmt);\n",
       "        fmt_picker.append(option)\n",
       "    }\n",
       "\n",
       "    // Add hover states to the ui-buttons\n",
       "    $( \".ui-button\" ).hover(\n",
       "        function() { $(this).addClass(\"ui-state-hover\");},\n",
       "        function() { $(this).removeClass(\"ui-state-hover\");}\n",
       "    );\n",
       "\n",
       "    var status_bar = $('<span class=\"mpl-message\"/>');\n",
       "    nav_element.append(status_bar);\n",
       "    this.message = status_bar[0];\n",
       "}\n",
       "\n",
       "mpl.figure.prototype.request_resize = function(x_pixels, y_pixels) {\n",
       "    // Request matplotlib to resize the figure. Matplotlib will then trigger a resize in the client,\n",
       "    // which will in turn request a refresh of the image.\n",
       "    this.send_message('resize', {'width': x_pixels, 'height': y_pixels});\n",
       "}\n",
       "\n",
       "mpl.figure.prototype.send_message = function(type, properties) {\n",
       "    properties['type'] = type;\n",
       "    properties['figure_id'] = this.id;\n",
       "    this.ws.send(JSON.stringify(properties));\n",
       "}\n",
       "\n",
       "mpl.figure.prototype.send_draw_message = function() {\n",
       "    if (!this.waiting) {\n",
       "        this.waiting = true;\n",
       "        this.ws.send(JSON.stringify({type: \"draw\", figure_id: this.id}));\n",
       "    }\n",
       "}\n",
       "\n",
       "\n",
       "mpl.figure.prototype.handle_save = function(fig, msg) {\n",
       "    var format_dropdown = fig.format_dropdown;\n",
       "    var format = format_dropdown.options[format_dropdown.selectedIndex].value;\n",
       "    fig.ondownload(fig, format);\n",
       "}\n",
       "\n",
       "\n",
       "mpl.figure.prototype.handle_resize = function(fig, msg) {\n",
       "    var size = msg['size'];\n",
       "    if (size[0] != fig.canvas.width || size[1] != fig.canvas.height) {\n",
       "        fig._resize_canvas(size[0], size[1]);\n",
       "        fig.send_message(\"refresh\", {});\n",
       "    };\n",
       "}\n",
       "\n",
       "mpl.figure.prototype.handle_rubberband = function(fig, msg) {\n",
       "    var x0 = msg['x0'] / mpl.ratio;\n",
       "    var y0 = (fig.canvas.height - msg['y0']) / mpl.ratio;\n",
       "    var x1 = msg['x1'] / mpl.ratio;\n",
       "    var y1 = (fig.canvas.height - msg['y1']) / mpl.ratio;\n",
       "    x0 = Math.floor(x0) + 0.5;\n",
       "    y0 = Math.floor(y0) + 0.5;\n",
       "    x1 = Math.floor(x1) + 0.5;\n",
       "    y1 = Math.floor(y1) + 0.5;\n",
       "    var min_x = Math.min(x0, x1);\n",
       "    var min_y = Math.min(y0, y1);\n",
       "    var width = Math.abs(x1 - x0);\n",
       "    var height = Math.abs(y1 - y0);\n",
       "\n",
       "    fig.rubberband_context.clearRect(\n",
       "        0, 0, fig.canvas.width, fig.canvas.height);\n",
       "\n",
       "    fig.rubberband_context.strokeRect(min_x, min_y, width, height);\n",
       "}\n",
       "\n",
       "mpl.figure.prototype.handle_figure_label = function(fig, msg) {\n",
       "    // Updates the figure title.\n",
       "    fig.header.textContent = msg['label'];\n",
       "}\n",
       "\n",
       "mpl.figure.prototype.handle_cursor = function(fig, msg) {\n",
       "    var cursor = msg['cursor'];\n",
       "    switch(cursor)\n",
       "    {\n",
       "    case 0:\n",
       "        cursor = 'pointer';\n",
       "        break;\n",
       "    case 1:\n",
       "        cursor = 'default';\n",
       "        break;\n",
       "    case 2:\n",
       "        cursor = 'crosshair';\n",
       "        break;\n",
       "    case 3:\n",
       "        cursor = 'move';\n",
       "        break;\n",
       "    }\n",
       "    fig.rubberband_canvas.style.cursor = cursor;\n",
       "}\n",
       "\n",
       "mpl.figure.prototype.handle_message = function(fig, msg) {\n",
       "    fig.message.textContent = msg['message'];\n",
       "}\n",
       "\n",
       "mpl.figure.prototype.handle_draw = function(fig, msg) {\n",
       "    // Request the server to send over a new figure.\n",
       "    fig.send_draw_message();\n",
       "}\n",
       "\n",
       "mpl.figure.prototype.handle_image_mode = function(fig, msg) {\n",
       "    fig.image_mode = msg['mode'];\n",
       "}\n",
       "\n",
       "mpl.figure.prototype.updated_canvas_event = function() {\n",
       "    // Called whenever the canvas gets updated.\n",
       "    this.send_message(\"ack\", {});\n",
       "}\n",
       "\n",
       "// A function to construct a web socket function for onmessage handling.\n",
       "// Called in the figure constructor.\n",
       "mpl.figure.prototype._make_on_message_function = function(fig) {\n",
       "    return function socket_on_message(evt) {\n",
       "        if (evt.data instanceof Blob) {\n",
       "            /* FIXME: We get \"Resource interpreted as Image but\n",
       "             * transferred with MIME type text/plain:\" errors on\n",
       "             * Chrome.  But how to set the MIME type?  It doesn't seem\n",
       "             * to be part of the websocket stream */\n",
       "            evt.data.type = \"image/png\";\n",
       "\n",
       "            /* Free the memory for the previous frames */\n",
       "            if (fig.imageObj.src) {\n",
       "                (window.URL || window.webkitURL).revokeObjectURL(\n",
       "                    fig.imageObj.src);\n",
       "            }\n",
       "\n",
       "            fig.imageObj.src = (window.URL || window.webkitURL).createObjectURL(\n",
       "                evt.data);\n",
       "            fig.updated_canvas_event();\n",
       "            fig.waiting = false;\n",
       "            return;\n",
       "        }\n",
       "        else if (typeof evt.data === 'string' && evt.data.slice(0, 21) == \"data:image/png;base64\") {\n",
       "            fig.imageObj.src = evt.data;\n",
       "            fig.updated_canvas_event();\n",
       "            fig.waiting = false;\n",
       "            return;\n",
       "        }\n",
       "\n",
       "        var msg = JSON.parse(evt.data);\n",
       "        var msg_type = msg['type'];\n",
       "\n",
       "        // Call the  \"handle_{type}\" callback, which takes\n",
       "        // the figure and JSON message as its only arguments.\n",
       "        try {\n",
       "            var callback = fig[\"handle_\" + msg_type];\n",
       "        } catch (e) {\n",
       "            console.log(\"No handler for the '\" + msg_type + \"' message type: \", msg);\n",
       "            return;\n",
       "        }\n",
       "\n",
       "        if (callback) {\n",
       "            try {\n",
       "                // console.log(\"Handling '\" + msg_type + \"' message: \", msg);\n",
       "                callback(fig, msg);\n",
       "            } catch (e) {\n",
       "                console.log(\"Exception inside the 'handler_\" + msg_type + \"' callback:\", e, e.stack, msg);\n",
       "            }\n",
       "        }\n",
       "    };\n",
       "}\n",
       "\n",
       "// from http://stackoverflow.com/questions/1114465/getting-mouse-location-in-canvas\n",
       "mpl.findpos = function(e) {\n",
       "    //this section is from http://www.quirksmode.org/js/events_properties.html\n",
       "    var targ;\n",
       "    if (!e)\n",
       "        e = window.event;\n",
       "    if (e.target)\n",
       "        targ = e.target;\n",
       "    else if (e.srcElement)\n",
       "        targ = e.srcElement;\n",
       "    if (targ.nodeType == 3) // defeat Safari bug\n",
       "        targ = targ.parentNode;\n",
       "\n",
       "    // jQuery normalizes the pageX and pageY\n",
       "    // pageX,Y are the mouse positions relative to the document\n",
       "    // offset() returns the position of the element relative to the document\n",
       "    var x = e.pageX - $(targ).offset().left;\n",
       "    var y = e.pageY - $(targ).offset().top;\n",
       "\n",
       "    return {\"x\": x, \"y\": y};\n",
       "};\n",
       "\n",
       "/*\n",
       " * return a copy of an object with only non-object keys\n",
       " * we need this to avoid circular references\n",
       " * http://stackoverflow.com/a/24161582/3208463\n",
       " */\n",
       "function simpleKeys (original) {\n",
       "  return Object.keys(original).reduce(function (obj, key) {\n",
       "    if (typeof original[key] !== 'object')\n",
       "        obj[key] = original[key]\n",
       "    return obj;\n",
       "  }, {});\n",
       "}\n",
       "\n",
       "mpl.figure.prototype.mouse_event = function(event, name) {\n",
       "    var canvas_pos = mpl.findpos(event)\n",
       "\n",
       "    if (name === 'button_press')\n",
       "    {\n",
       "        this.canvas.focus();\n",
       "        this.canvas_div.focus();\n",
       "    }\n",
       "\n",
       "    var x = canvas_pos.x * mpl.ratio;\n",
       "    var y = canvas_pos.y * mpl.ratio;\n",
       "\n",
       "    this.send_message(name, {x: x, y: y, button: event.button,\n",
       "                             step: event.step,\n",
       "                             guiEvent: simpleKeys(event)});\n",
       "\n",
       "    /* This prevents the web browser from automatically changing to\n",
       "     * the text insertion cursor when the button is pressed.  We want\n",
       "     * to control all of the cursor setting manually through the\n",
       "     * 'cursor' event from matplotlib */\n",
       "    event.preventDefault();\n",
       "    return false;\n",
       "}\n",
       "\n",
       "mpl.figure.prototype._key_event_extra = function(event, name) {\n",
       "    // Handle any extra behaviour associated with a key event\n",
       "}\n",
       "\n",
       "mpl.figure.prototype.key_event = function(event, name) {\n",
       "\n",
       "    // Prevent repeat events\n",
       "    if (name == 'key_press')\n",
       "    {\n",
       "        if (event.which === this._key)\n",
       "            return;\n",
       "        else\n",
       "            this._key = event.which;\n",
       "    }\n",
       "    if (name == 'key_release')\n",
       "        this._key = null;\n",
       "\n",
       "    var value = '';\n",
       "    if (event.ctrlKey && event.which != 17)\n",
       "        value += \"ctrl+\";\n",
       "    if (event.altKey && event.which != 18)\n",
       "        value += \"alt+\";\n",
       "    if (event.shiftKey && event.which != 16)\n",
       "        value += \"shift+\";\n",
       "\n",
       "    value += 'k';\n",
       "    value += event.which.toString();\n",
       "\n",
       "    this._key_event_extra(event, name);\n",
       "\n",
       "    this.send_message(name, {key: value,\n",
       "                             guiEvent: simpleKeys(event)});\n",
       "    return false;\n",
       "}\n",
       "\n",
       "mpl.figure.prototype.toolbar_button_onclick = function(name) {\n",
       "    if (name == 'download') {\n",
       "        this.handle_save(this, null);\n",
       "    } else {\n",
       "        this.send_message(\"toolbar_button\", {name: name});\n",
       "    }\n",
       "};\n",
       "\n",
       "mpl.figure.prototype.toolbar_button_onmouseover = function(tooltip) {\n",
       "    this.message.textContent = tooltip;\n",
       "};\n",
       "mpl.toolbar_items = [[\"Home\", \"Reset original view\", \"fa fa-home icon-home\", \"home\"], [\"Back\", \"Back to previous view\", \"fa fa-arrow-left icon-arrow-left\", \"back\"], [\"Forward\", \"Forward to next view\", \"fa fa-arrow-right icon-arrow-right\", \"forward\"], [\"\", \"\", \"\", \"\"], [\"Pan\", \"Pan axes with left mouse, zoom with right\", \"fa fa-arrows icon-move\", \"pan\"], [\"Zoom\", \"Zoom to rectangle\", \"fa fa-square-o icon-check-empty\", \"zoom\"], [\"\", \"\", \"\", \"\"], [\"Download\", \"Download plot\", \"fa fa-floppy-o icon-save\", \"download\"]];\n",
       "\n",
       "mpl.extensions = [\"eps\", \"jpeg\", \"pdf\", \"png\", \"ps\", \"raw\", \"svg\", \"tif\"];\n",
       "\n",
       "mpl.default_extension = \"png\";var comm_websocket_adapter = function(comm) {\n",
       "    // Create a \"websocket\"-like object which calls the given IPython comm\n",
       "    // object with the appropriate methods. Currently this is a non binary\n",
       "    // socket, so there is still some room for performance tuning.\n",
       "    var ws = {};\n",
       "\n",
       "    ws.close = function() {\n",
       "        comm.close()\n",
       "    };\n",
       "    ws.send = function(m) {\n",
       "        //console.log('sending', m);\n",
       "        comm.send(m);\n",
       "    };\n",
       "    // Register the callback with on_msg.\n",
       "    comm.on_msg(function(msg) {\n",
       "        //console.log('receiving', msg['content']['data'], msg);\n",
       "        // Pass the mpl event to the overridden (by mpl) onmessage function.\n",
       "        ws.onmessage(msg['content']['data'])\n",
       "    });\n",
       "    return ws;\n",
       "}\n",
       "\n",
       "mpl.mpl_figure_comm = function(comm, msg) {\n",
       "    // This is the function which gets called when the mpl process\n",
       "    // starts-up an IPython Comm through the \"matplotlib\" channel.\n",
       "\n",
       "    var id = msg.content.data.id;\n",
       "    // Get hold of the div created by the display call when the Comm\n",
       "    // socket was opened in Python.\n",
       "    var element = $(\"#\" + id);\n",
       "    var ws_proxy = comm_websocket_adapter(comm)\n",
       "\n",
       "    function ondownload(figure, format) {\n",
       "        window.open(figure.imageObj.src);\n",
       "    }\n",
       "\n",
       "    var fig = new mpl.figure(id, ws_proxy,\n",
       "                           ondownload,\n",
       "                           element.get(0));\n",
       "\n",
       "    // Call onopen now - mpl needs it, as it is assuming we've passed it a real\n",
       "    // web socket which is closed, not our websocket->open comm proxy.\n",
       "    ws_proxy.onopen();\n",
       "\n",
       "    fig.parent_element = element.get(0);\n",
       "    fig.cell_info = mpl.find_output_cell(\"<div id='\" + id + \"'></div>\");\n",
       "    if (!fig.cell_info) {\n",
       "        console.error(\"Failed to find cell for figure\", id, fig);\n",
       "        return;\n",
       "    }\n",
       "\n",
       "    var output_index = fig.cell_info[2]\n",
       "    var cell = fig.cell_info[0];\n",
       "\n",
       "};\n",
       "\n",
       "mpl.figure.prototype.handle_close = function(fig, msg) {\n",
       "    var width = fig.canvas.width/mpl.ratio\n",
       "    fig.root.unbind('remove')\n",
       "\n",
       "    // Update the output cell to use the data from the current canvas.\n",
       "    fig.push_to_output();\n",
       "    var dataURL = fig.canvas.toDataURL();\n",
       "    // Re-enable the keyboard manager in IPython - without this line, in FF,\n",
       "    // the notebook keyboard shortcuts fail.\n",
       "    IPython.keyboard_manager.enable()\n",
       "    $(fig.parent_element).html('<img src=\"' + dataURL + '\" width=\"' + width + '\">');\n",
       "    fig.close_ws(fig, msg);\n",
       "}\n",
       "\n",
       "mpl.figure.prototype.close_ws = function(fig, msg){\n",
       "    fig.send_message('closing', msg);\n",
       "    // fig.ws.close()\n",
       "}\n",
       "\n",
       "mpl.figure.prototype.push_to_output = function(remove_interactive) {\n",
       "    // Turn the data on the canvas into data in the output cell.\n",
       "    var width = this.canvas.width/mpl.ratio\n",
       "    var dataURL = this.canvas.toDataURL();\n",
       "    this.cell_info[1]['text/html'] = '<img src=\"' + dataURL + '\" width=\"' + width + '\">';\n",
       "}\n",
       "\n",
       "mpl.figure.prototype.updated_canvas_event = function() {\n",
       "    // Tell IPython that the notebook contents must change.\n",
       "    IPython.notebook.set_dirty(true);\n",
       "    this.send_message(\"ack\", {});\n",
       "    var fig = this;\n",
       "    // Wait a second, then push the new image to the DOM so\n",
       "    // that it is saved nicely (might be nice to debounce this).\n",
       "    setTimeout(function () { fig.push_to_output() }, 1000);\n",
       "}\n",
       "\n",
       "mpl.figure.prototype._init_toolbar = function() {\n",
       "    var fig = this;\n",
       "\n",
       "    var nav_element = $('<div/>')\n",
       "    nav_element.attr('style', 'width: 100%');\n",
       "    this.root.append(nav_element);\n",
       "\n",
       "    // Define a callback function for later on.\n",
       "    function toolbar_event(event) {\n",
       "        return fig.toolbar_button_onclick(event['data']);\n",
       "    }\n",
       "    function toolbar_mouse_event(event) {\n",
       "        return fig.toolbar_button_onmouseover(event['data']);\n",
       "    }\n",
       "\n",
       "    for(var toolbar_ind in mpl.toolbar_items){\n",
       "        var name = mpl.toolbar_items[toolbar_ind][0];\n",
       "        var tooltip = mpl.toolbar_items[toolbar_ind][1];\n",
       "        var image = mpl.toolbar_items[toolbar_ind][2];\n",
       "        var method_name = mpl.toolbar_items[toolbar_ind][3];\n",
       "\n",
       "        if (!name) { continue; };\n",
       "\n",
       "        var button = $('<button class=\"btn btn-default\" href=\"#\" title=\"' + name + '\"><i class=\"fa ' + image + ' fa-lg\"></i></button>');\n",
       "        button.click(method_name, toolbar_event);\n",
       "        button.mouseover(tooltip, toolbar_mouse_event);\n",
       "        nav_element.append(button);\n",
       "    }\n",
       "\n",
       "    // Add the status bar.\n",
       "    var status_bar = $('<span class=\"mpl-message\" style=\"text-align:right; float: right;\"/>');\n",
       "    nav_element.append(status_bar);\n",
       "    this.message = status_bar[0];\n",
       "\n",
       "    // Add the close button to the window.\n",
       "    var buttongrp = $('<div class=\"btn-group inline pull-right\"></div>');\n",
       "    var button = $('<button class=\"btn btn-mini btn-primary\" href=\"#\" title=\"Stop Interaction\"><i class=\"fa fa-power-off icon-remove icon-large\"></i></button>');\n",
       "    button.click(function (evt) { fig.handle_close(fig, {}); } );\n",
       "    button.mouseover('Stop Interaction', toolbar_mouse_event);\n",
       "    buttongrp.append(button);\n",
       "    var titlebar = this.root.find($('.ui-dialog-titlebar'));\n",
       "    titlebar.prepend(buttongrp);\n",
       "}\n",
       "\n",
       "mpl.figure.prototype._root_extra_style = function(el){\n",
       "    var fig = this\n",
       "    el.on(\"remove\", function(){\n",
       "\tfig.close_ws(fig, {});\n",
       "    });\n",
       "}\n",
       "\n",
       "mpl.figure.prototype._canvas_extra_style = function(el){\n",
       "    // this is important to make the div 'focusable\n",
       "    el.attr('tabindex', 0)\n",
       "    // reach out to IPython and tell the keyboard manager to turn it's self\n",
       "    // off when our div gets focus\n",
       "\n",
       "    // location in version 3\n",
       "    if (IPython.notebook.keyboard_manager) {\n",
       "        IPython.notebook.keyboard_manager.register_events(el);\n",
       "    }\n",
       "    else {\n",
       "        // location in version 2\n",
       "        IPython.keyboard_manager.register_events(el);\n",
       "    }\n",
       "\n",
       "}\n",
       "\n",
       "mpl.figure.prototype._key_event_extra = function(event, name) {\n",
       "    var manager = IPython.notebook.keyboard_manager;\n",
       "    if (!manager)\n",
       "        manager = IPython.keyboard_manager;\n",
       "\n",
       "    // Check for shift+enter\n",
       "    if (event.shiftKey && event.which == 13) {\n",
       "        this.canvas_div.blur();\n",
       "        event.shiftKey = false;\n",
       "        // Send a \"J\" for go to next cell\n",
       "        event.which = 74;\n",
       "        event.keyCode = 74;\n",
       "        manager.command_mode();\n",
       "        manager.handle_keydown(event);\n",
       "    }\n",
       "}\n",
       "\n",
       "mpl.figure.prototype.handle_save = function(fig, msg) {\n",
       "    fig.ondownload(fig, null);\n",
       "}\n",
       "\n",
       "\n",
       "mpl.find_output_cell = function(html_output) {\n",
       "    // Return the cell and output element which can be found *uniquely* in the notebook.\n",
       "    // Note - this is a bit hacky, but it is done because the \"notebook_saving.Notebook\"\n",
       "    // IPython event is triggered only after the cells have been serialised, which for\n",
       "    // our purposes (turning an active figure into a static one), is too late.\n",
       "    var cells = IPython.notebook.get_cells();\n",
       "    var ncells = cells.length;\n",
       "    for (var i=0; i<ncells; i++) {\n",
       "        var cell = cells[i];\n",
       "        if (cell.cell_type === 'code'){\n",
       "            for (var j=0; j<cell.output_area.outputs.length; j++) {\n",
       "                var data = cell.output_area.outputs[j];\n",
       "                if (data.data) {\n",
       "                    // IPython >= 3 moved mimebundle to data attribute of output\n",
       "                    data = data.data;\n",
       "                }\n",
       "                if (data['text/html'] == html_output) {\n",
       "                    return [cell, data, j];\n",
       "                }\n",
       "            }\n",
       "        }\n",
       "    }\n",
       "}\n",
       "\n",
       "// Register the function which deals with the matplotlib target/channel.\n",
       "// The kernel may be null if the page has been refreshed.\n",
       "if (IPython.notebook.kernel != null) {\n",
       "    IPython.notebook.kernel.comm_manager.register_target('matplotlib', mpl.mpl_figure_comm);\n",
       "}\n"
      ],
      "text/plain": [
       "<IPython.core.display.Javascript object>"
      ]
     },
     "metadata": {},
     "output_type": "display_data"
    },
    {
     "data": {
      "text/html": [
       "<img src=\"data:image/png;base64,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\" width=\"640\">"
      ],
      "text/plain": [
       "<IPython.core.display.HTML object>"
      ]
     },
     "metadata": {},
     "output_type": "display_data"
    }
   ],
   "source": [
    "%matplotlib notebook\n",
    "xTr,yTr = generate_data()\n",
    "visualize_2D(xTr, yTr)"
   ]
  },
  {
   "cell_type": "markdown",
   "metadata": {
    "nbgrader": {
     "checksum": "72f2f5c739f5c5161065210f7af53bd0",
     "grade": false,
     "grade_id": "cell-4a8d3426274ccdbd",
     "locked": true,
     "schema_version": 1,
     "solution": false
    }
   },
   "source": [
    "## Kernel SVM\n",
    "\n",
    "In this assignment, you need to implement three functions <code>computeK</code> that computes the kernel function efficiently, <code>loss</code> that calculates the unconstrained kernelized hinge loss and <code>grad</code> that calculates the gradient of the loss with respect to $\\mathbf{\\beta}, b$. "
   ]
  },
  {
   "cell_type": "markdown",
   "metadata": {
    "nbgrader": {
     "checksum": "4812bec386118a86c8fb94d633487608",
     "grade": false,
     "grade_id": "cell-c36368930d78904c",
     "locked": true,
     "schema_version": 1,
     "solution": false
    }
   },
   "source": [
    "### Part One: Compute K [Graded]\n",
    "\n",
    "In <code>computeK</code>, you are going to calcuate the values of different kernel functions given inputs `X` and `Z`. You will return $K = K(X,Z)$. $K_{ij} = k(\\mathbf x_i, \\mathbf z_j)$ where $k( \\mathbf x_i, \\mathbf z_j) = \\phi(\\mathbf x_i)^T\\phi(\\mathbf z_j)$. This function takes in the parameter `kerneltype` to decide which of the three different kernel functions to evaluate. To review, recall the following types of kernels:\n",
    "\n",
    "- Linear: $K(X,Z) = X^TZ$\n",
    "- Polynomial: $K(X, Z)=\\left(X^{T} Z+1\\right)^{d}$ where `kpar` = $d$\n",
    "- RBF: $K(X,Z) = \\exp\\{-\\frac{||X-Z||^2}{\\sigma^2}\\}$ where `kpar` = $\\frac{1}{\\sigma^2}$\n",
    "\n",
    "<p><strong>Note:</strong> When calculating the RBF kernel, you can use the <code>l2distance(X, Z)</code> functions to calculate the pairwise l2 distance efficiently.</p>"
   ]
  },
  {
   "cell_type": "code",
   "execution_count": 3,
   "metadata": {
    "nbgrader": {
     "checksum": "b07d246d8f0a5c779eabc4c0bd0052af",
     "grade": false,
     "grade_id": "cell-computeK",
     "locked": false,
     "schema_version": 1,
     "solution": true
    }
   },
   "outputs": [],
   "source": [
    "def computeK(kerneltype, X, Z, kpar=1):\n",
    "    \"\"\"\n",
    "    function K = computeK(kernel_type, X, Z)\n",
    "    computes a matrix K such that Kij=k(x,z);\n",
    "    for three different function linear, rbf or polynomial.\n",
    "    \n",
    "    Input:\n",
    "    kerneltype: either 'linear','polynomial','rbf'\n",
    "    X: n input vectors of dimension d (nxd);\n",
    "    Z: m input vectors of dimension d (mxd);\n",
    "    kpar: kernel parameter (inverse kernel width gamma in case of RBF, degree in case of polynomial)\n",
    "    \n",
    "    OUTPUT:\n",
    "    K : nxm kernel matrix\n",
    "    \"\"\"\n",
    "    assert kerneltype in [\"linear\",\"polynomial\",\"rbf\"], \"Kernel type %s not known.\" % kerneltype\n",
    "    assert X.shape[1] == Z.shape[1], \"Input dimensions do not match\"\n",
    "    \n",
    "    K = None\n",
    "    \n",
    "    # YOUR CODE HERE\n",
    "    \n",
    "    if kerneltype == \"linear\":\n",
    "        K = np.dot(X,Z.T)\n",
    "\n",
    "    if kerneltype == 'polynomial':\n",
    "        K = (X@Z.T+1)**kpar\n",
    "  \n",
    "    if kerneltype == \"rbf\":\n",
    "        dist = l2distance(X,Z)\n",
    "        K = np.exp(-(dist**2)*kpar)\n",
    "    return K\n",
    "# xTr_test, yTr_test = generate_data(100)\n",
    "# xTr_test2, yTr_test2 = generate_data(50)\n",
    "# n, d = xTr_test.shape\n",
    "# s1 = (computeK('rbf', xTr_test, xTr_test2, kpar=1).shape == (100, 50))\n",
    "# s2 = (computeK('polynomial', xTr_test, xTr_test2, kpar=1).shape == (100, 50))\n",
    "# s3 = (computeK('linear', xTr_test, xTr_test2, kpar=1).shape == (100, 50))\n",
    "# print(s1 and s2 and s3)"
   ]
  },
  {
   "cell_type": "code",
   "execution_count": 4,
   "metadata": {
    "nbgrader": {
     "checksum": "215dbae26b9ab343625160fa984b718d",
     "grade": false,
     "grade_id": "cell-computeK-selftest",
     "locked": true,
     "schema_version": 1,
     "solution": false
    }
   },
   "outputs": [
    {
     "name": "stdout",
     "output_type": "stream",
     "text": [
      "Running Test: computeK_test1 ... ✔ Passed!\n",
      "Running Test: computeK_test2 ... ✔ Passed!\n",
      "Running Test: computeK_test3 ... ✔ Passed!\n",
      "Running Test: computeK_test4 ... ✔ Passed!\n",
      "Running Test: computeK_test5 ... ✔ Passed!\n",
      "Running Test: computeK_test6 ... ✔ Passed!\n"
     ]
    }
   ],
   "source": [
    "# These tests test whether your computeK() is implemented correctly\n",
    "\n",
    "xTr_test, yTr_test = generate_data(100)\n",
    "xTr_test2, yTr_test2 = generate_data(50)\n",
    "n, d = xTr_test.shape\n",
    "\n",
    "# Checks whether computeK compute the kernel matrix with the right dimension\n",
    "def computeK_test1():\n",
    "    s1 = (computeK('rbf', xTr_test, xTr_test2, kpar=1).shape == (100, 50))\n",
    "    s2 = (computeK('polynomial', xTr_test, xTr_test2, kpar=1).shape == (100, 50))\n",
    "    s3 = (computeK('linear', xTr_test, xTr_test2, kpar=1).shape == (100, 50))\n",
    "    return (s1 and s2 and s3)\n",
    "\n",
    "# Checks whether the kernel matrix is symmetric\n",
    "def computeK_test2():\n",
    "    k_rbf = computeK('rbf', xTr_test, xTr_test, kpar=1)\n",
    "    s1 = np.allclose(k_rbf, k_rbf.T)\n",
    "    k_poly = computeK('polynomial', xTr_test, xTr_test, kpar=1)\n",
    "    s2 = np.allclose(k_poly, k_poly.T)\n",
    "    k_linear = computeK('linear', xTr_test, xTr_test, kpar=1)\n",
    "    s3 = np.allclose(k_linear, k_linear.T)\n",
    "    return (s1 and s2 and s3)\n",
    "\n",
    "# Checks whether the kernel matrix is positive semi-definite\n",
    "def computeK_test3():\n",
    "    k_rbf = computeK('rbf', xTr_test2, xTr_test2, kpar=1)\n",
    "    eigen_rbf = np.linalg.eigvals(k_rbf)\n",
    "    eigen_rbf[np.isclose(eigen_rbf, 0)] = 0\n",
    "    s1 = np.all(eigen_rbf >= 0)\n",
    "    k_poly = computeK('polynomial', xTr_test2, xTr_test2, kpar=1)\n",
    "    eigen_poly = np.linalg.eigvals(k_poly)\n",
    "    eigen_poly[np.isclose(eigen_poly, 0)] = 0\n",
    "    s2 = np.all(eigen_poly >= 0)\n",
    "    k_linear = computeK('linear', xTr_test2, xTr_test2, kpar=1)\n",
    "    eigen_linear = np.linalg.eigvals(k_linear)\n",
    "    eigen_linear[np.isclose(eigen_linear, 0)] = 0\n",
    "    s3 = np.all(eigen_linear >= 0)\n",
    "    return (s1 and s2 and s3)\n",
    "\n",
    "# Checks whether computeK compute the right kernel matrix with rbf kernel\n",
    "def computeK_test4():\n",
    "    k = computeK('rbf', xTr_test, xTr_test2, kpar=1)\n",
    "    k2 = computeK_grader('rbf', xTr_test, xTr_test2, kpar=1)\n",
    "    \n",
    "    return np.linalg.norm(k - k2) < 1e-5\n",
    "\n",
    "# Checks whether computeK compute the right kernel matrix with polynomial kernel\n",
    "def computeK_test5():\n",
    "    k = computeK('polynomial', xTr_test, xTr_test2, kpar=1)\n",
    "    k2 = computeK_grader('polynomial', xTr_test, xTr_test2, kpar=1)\n",
    "    \n",
    "    return np.linalg.norm(k - k2) < 1e-5\n",
    "\n",
    "# Checks whether computeK compute the right kernel matrix with linear kernel\n",
    "def computeK_test6():\n",
    "    k = computeK('linear', xTr_test, xTr_test2, kpar=1)\n",
    "    k2 = computeK_grader('linear', xTr_test, xTr_test2, kpar=1)\n",
    "    \n",
    "    return np.linalg.norm(k - k2) < 1e-5\n",
    "\n",
    "\n",
    "runtest(computeK_test1, 'computeK_test1')\n",
    "runtest(computeK_test2, 'computeK_test2')\n",
    "runtest(computeK_test3, 'computeK_test3')\n",
    "runtest(computeK_test4, 'computeK_test4')\n",
    "runtest(computeK_test5, 'computeK_test5')\n",
    "runtest(computeK_test6, 'computeK_test6')"
   ]
  },
  {
   "cell_type": "code",
   "execution_count": 5,
   "metadata": {
    "nbgrader": {
     "checksum": "bd2c8ccbbecc00e7d6aad6329fd4edf3",
     "grade": true,
     "grade_id": "cell-computeK-test1",
     "locked": true,
     "points": 1,
     "schema_version": 1,
     "solution": false
    }
   },
   "outputs": [],
   "source": [
    "# Autograder test cell - worth 1 point\n",
    "# runs computeK_test1"
   ]
  },
  {
   "cell_type": "code",
   "execution_count": 6,
   "metadata": {
    "nbgrader": {
     "checksum": "90c7eea29e746c03b7c404d207953eb7",
     "grade": true,
     "grade_id": "cell-computeK-test2",
     "locked": true,
     "points": 1,
     "schema_version": 1,
     "solution": false
    }
   },
   "outputs": [],
   "source": [
    "# Autograder test cell - worth 1 point\n",
    "# runs computeK_test2"
   ]
  },
  {
   "cell_type": "code",
   "execution_count": 7,
   "metadata": {
    "nbgrader": {
     "checksum": "44c7806efdc12fc50ccc08a4a46e8a9d",
     "grade": true,
     "grade_id": "cell-computeK-test3",
     "locked": true,
     "points": 1,
     "schema_version": 1,
     "solution": false
    }
   },
   "outputs": [],
   "source": [
    "# Autograder test cell - worth 1 point\n",
    "# runs computeK_test3"
   ]
  },
  {
   "cell_type": "code",
   "execution_count": 8,
   "metadata": {
    "nbgrader": {
     "checksum": "f6eb66f21d145c4a9d9687ee4ef19569",
     "grade": true,
     "grade_id": "cell-computeK-test4",
     "locked": true,
     "points": 1,
     "schema_version": 1,
     "solution": false
    }
   },
   "outputs": [],
   "source": [
    "# Autograder test cell - worth 1 point\n",
    "# runs computeK_test4"
   ]
  },
  {
   "cell_type": "code",
   "execution_count": 9,
   "metadata": {
    "nbgrader": {
     "checksum": "ae6de714e9658eccb72624bc3d9fb153",
     "grade": true,
     "grade_id": "cell-computeK-test5",
     "locked": true,
     "points": 1,
     "schema_version": 1,
     "solution": false
    }
   },
   "outputs": [],
   "source": [
    "# Autograder test cell - worth 1 point\n",
    "# runs computeK_test5"
   ]
  },
  {
   "cell_type": "code",
   "execution_count": 10,
   "metadata": {
    "nbgrader": {
     "checksum": "9d99ad37ee48a381df2ea875e48ebf44",
     "grade": true,
     "grade_id": "cell-computeK-test6",
     "locked": true,
     "points": 1,
     "schema_version": 1,
     "solution": false
    }
   },
   "outputs": [],
   "source": [
    "# Autograder test cell - worth 1 point\n",
    "# runs computeK_test5"
   ]
  },
  {
   "cell_type": "markdown",
   "metadata": {
    "nbgrader": {
     "checksum": "80c421a14bca6d2e4d8f0fc9aaf200b6",
     "grade": false,
     "grade_id": "cell-7a01c840a42c22ae",
     "locked": true,
     "schema_version": 1,
     "solution": false
    }
   },
   "source": [
    "### Part Two: Compute Loss [Graded]\n",
    "\n",
    "Now, you are going to implement the function <code>loss</code>. Note that the function signature of this function is slightly different from the previous assignment. Previously, we can pass in $\\mathbf{w}$ to calculate the loss values. However, in the kernelized version of the loss, $\\mathbf{w}$ is calculated as a linear combination of the training examples, so we need to pass the training set to the function. \n",
    "\n",
    "The following is an explanation of the theory that leads us to the loss expression."
   ]
  },
  {
   "cell_type": "markdown",
   "metadata": {
    "nbgrader": {
     "checksum": "4abe82c248947da080237d583b1ebfb1",
     "grade": false,
     "grade_id": "cell-5b36c08fbebe600d",
     "locked": true,
     "schema_version": 1,
     "solution": false
    }
   },
   "source": [
    "Recall that we can express the solution as a linear combination of the training examples $ \\{\\phi(\\mathbf{x}_1), \\cdots, \\phi(\\mathbf{x}_n) \\}$:\n",
    "$$\n",
    "    \\begin{aligned}\n",
    "    \\mathbf{w} = \\sum_{j = 1}^n \\alpha_j y_j \\phi(\\mathbf{x}_j)\n",
    "    \\end{aligned}\n",
    "$$\n",
    "\n",
    "To simplify, we define $\\beta_j = \\alpha_j y_j$ and we can express the solution as: \n",
    "$$\n",
    "    \\begin{aligned}\n",
    "    \\mathbf{w} = \\sum_{j = 1}^n \\beta_j \\phi(\\mathbf{x}_j)\n",
    "    \\end{aligned}\n",
    "$$\n",
    "\n",
    "If we substitute the formulation above into our unconstrained regularized squared hinge loss, \n",
    "$$\n",
    "    \\begin{aligned}\n",
    "    \\min_{\\mathbf{w},b}\\underbrace{\\mathbf{w}^T\\mathbf{w}}_{l_{2} \\text{ regularizer} } +  C\\  \\sum_{i=1}^{n}\\underbrace{\\max\\left [ 1-y_{i}(\\mathbf{w}^T \\mathbf{x}_i+b),0 \\right ] ^2}_{ \\text{squared hinge loss} }\n",
    "    \\end{aligned}\n",
    "$$\n",
    "\n",
    "we obtain: \n",
    "\n",
    "$$\n",
    "\\begin{aligned}\n",
    "       \\underbrace{\\sum_{i = 1} ^n \\sum_{j = 1}^n \\beta_i  \\beta_j \\phi(\\mathbf{x} _i)^T \\phi(\\mathbf{x}_j)}_{l_{2} \\text{ regularizer}} +  C\\  \\sum_{i=1}^{n}\\underbrace{\\max\\left [ 1-y_{i}(\\sum_{j = 1}^n \\beta_j \\phi(\\mathbf{x}_j)^T \\phi(\\mathbf{x}_i)+b),0 \\right ] ^ 2}_{\\text{squared hinge loss}}     \n",
    "\\end{aligned}\n",
    "$$\n",
    "Now, if we replace all the $\\phi(\\mathbf{x} _i)^T \\phi(\\mathbf{x}_j)$ with $k(\\mathbf{x}_i, \\mathbf{x}_j)$, we obtained the \"kernelized\" hinge loss. \n",
    "\n",
    "$$\n",
    "\\begin{aligned}\n",
    "      \\min_{\\beta_1,\\cdots,\\beta_n, b} \\underbrace{\\sum_{i = 1} ^n \\sum_{j = 1}^n \\beta_i \\beta_j k(\\mathbf{x} _i, \\mathbf{x}_j)}_{l_{2} \\text{ regularizer}} +  C\\  \\sum_{i=1}^{n}\\underbrace{\\max\\left [ 1-y_{i}(\\sum_{j = 1}^n \\beta_j k(\\mathbf{x}_j, \\mathbf{x}_i)+b),0 \\right ] ^ 2}_{\\text{squared hinge loss}}\n",
    "\\end{aligned}\n",
    "$$\n",
    "\n",
    "The expression above seems a little bit unweildy, so we are going to simplify the expression again. First, we will simplfy the $l_{2}$ regularizer. Define $\\mathbf{\\beta} = [\\beta_1, \\cdots, \\beta_n]^T$ and $K_{train}$ to be the kernel matrix calculated on the training set, namely, the (i, j)-th entry of $K_{train}$ is $k(\\mathbf{x} _i, \\mathbf{x}_j)$. It is easy to verify that the $l_{2}$ regularizer can be expressed as the quadratic form  \n",
    "\n",
    "$$\n",
    "    \\sum_{i = 1} ^n \\sum_{j = 1}^n \\beta_i \\beta_j k(\\mathbf{x} _i, \\mathbf{x}_j) = \\mathbf{\\beta}^T K_{train} \\mathbf{\\beta}\n",
    "$$\n",
    "\n",
    "Now, let's simplify the squared hinge loss. To start, we define $K_{train}[i]$ as the i-th row of $k_{train}$ expressed as a column vector. Now, the summation term within the hinge loss can be expressed as: \n",
    "\n",
    "$$\n",
    "    \\sum_{ j = 1}^n \\beta_j k(\\mathbf{x}_j, \\mathbf{x}_i) = \\mathbf{\\beta}^T K_{train}[i]\n",
    "$$\n",
    "\n",
    "Combining the two simplifications we have, we arrive at the following expression for the loss function: \n",
    "$$\n",
    "\\begin{aligned}\n",
    "      \\min_{\\mathbf{\\beta}, b} \\underbrace{\\mathbf{\\beta}^T K_{train} \\mathbf{\\beta}}_{l_{2}  \\text{ regularizer}} +  C\\  \\sum_{i=1}^{n}\\underbrace{\\max\\left [ 1-y_{i}(\\mathbf{\\beta}^T K_{train}[i]+b),0 \\right ] ^ 2}_{\\text{squared hinge loss}}\n",
    "\\end{aligned}\n",
    "$$\n",
    "\n",
    "After we minimize this expression and have found a good $\\beta$ that works on the kernel generated from the training data, $K_{train}$, we can test using our $\\beta$ and calculating the loss against testing data: \n",
    "\n",
    "$$\n",
    "\\begin{aligned}\n",
    "      \\min_{\\mathbf{\\beta}, b} \\underbrace{\\mathbf{\\beta}^T K_{train} \\mathbf{\\beta}}_{l_{2}  \\text{ regularizer}} +  C\\  \\sum_{i=1}^{n}\\underbrace{\\max\\left [ 1-y_{i}(\\mathbf{\\beta}^T K_{test}[i]+b),0 \\right ] ^ 2}_{\\text{squared hinge loss}}\n",
    "\\end{aligned}\n",
    "$$\n",
    "\n",
    "Note that the loss function we have above is very similar to the vanilla linear SVM, the differences are: \n",
    "\n",
    "1. Instead of $\\mathbf{w}$, we have $\\mathbf{\\beta}$\n",
    "2. The $l_{2}$ regularizer $\\mathbf{w}^T \\mathbf{w} = \\mathbf{w}^T I \\mathbf{w}$ is changed to $\\mathbf{\\beta}^T K_{train} \\mathbf{\\beta}$ to account for using $\\mathbf{\\beta}$ instead of $\\mathbf{w}$\n",
    "3. The inner product $\\mathbf{w}^T \\mathbf{x}_i$ in the hinge loss is changed to $\\mathbf{\\beta}^T K_{train}[i]$"
   ]
  },
  {
   "cell_type": "markdown",
   "metadata": {
    "nbgrader": {
     "checksum": "7bcbbb62bd27c72b7b3ca6ea12a60e4b",
     "grade": false,
     "grade_id": "cell-c7a3782fe360f7c1",
     "locked": true,
     "schema_version": 1,
     "solution": false
    }
   },
   "source": [
    "This is useful because we never need to explicitly calculate $\\phi(\\mathbf x_i)$, which can be exponential in size, or in the case of RBF, have an infinite number of elements. On the other hand, $K$ will be a $m x n$ matrices that encapsulates all the data you would gain from $\\phi$. \n",
    "\n",
    "Note that in the following code you are passing in both training data (`xTr`, `yTr`) and testing data (`xTe`, `yTr`) to calculate two kernels, `kernel_train` and `kernel_test` respectively. Unfortunately, when we're training an algorithm, we don't have access to test data! That would make the test data a very poor evaluator of the performance of the algorithm. This function is written so that passing **training data** into the parameters `xTe` and `yTe` will train the SVM on training data to find the best betas. During testing, passing in **test data** into those variables can be used to evaluate how good your algorithm is."
   ]
  },
  {
   "cell_type": "code",
   "execution_count": 11,
   "metadata": {
    "nbgrader": {
     "checksum": "6b773dd4a9ca88f21dd30038cdc2df60",
     "grade": false,
     "grade_id": "cell-loss",
     "locked": false,
     "schema_version": 1,
     "solution": true
    }
   },
   "outputs": [],
   "source": [
    "def loss(beta, b, xTr, yTr, xTe, yTe, C, kerneltype, kpar=1):\n",
    "    \"\"\"\n",
    "    INPUT:\n",
    "    beta : n dimensional vector that stores the linear combination coefficient\n",
    "    xTr   : nxd dimensional matrix (training set, each row is an input vector)\n",
    "    yTr   : n   dimensional vector (training label, each entry is a label)\n",
    "    b     : scalar (bias)\n",
    "    xTe   : mxd dimensional matrix (test set, each row is an input vector)\n",
    "    yTe   : m dimensional vector (test label, each entry is a label)\n",
    "    C     : scalar (constant that controls the tradeoff between l2-regularizer and hinge-loss)\n",
    "    kerneltype: either 'linear','polynomial','rbf'\n",
    "    kpar  : kernel parameter (inverse kernel width gamma in case of RBF, degree in case of polynomial)\n",
    "    \n",
    "    OUTPUTS:\n",
    "    loss     : the total loss obtained with (beta, xTr, yTr, b) on xTe and yTe (scalar)\n",
    "    \"\"\"\n",
    "    \n",
    "    loss_val = 0.0\n",
    "    # compute the kernel values between xTr and xTr \n",
    "    kernel_train = computeK(kerneltype, xTr, xTr, kpar)\n",
    "    # compute the kernel values between xTe and xTr\n",
    "    kernel_test = computeK(kerneltype, xTe, xTr, kpar)\n",
    "    \n",
    "    # YOUR CODE HERE\n",
    "    loss1 = beta.T@kernel_train@beta\n",
    "    loss2 = C*np.sum(np.maximum(1- yTr*(beta.T@kernel_train + b),0)**2) # C*np.sum(np.maximum((1 - yTr(beta.T@kernel_train + b), 0))**2)\n",
    "    loss_val = loss1 + loss2\n",
    "    \n",
    "\n",
    "   # raise NotImplementedError()\n",
    "    return loss_val\n",
    "# xTr_test, yTr_test = generate_data()\n",
    "# n, d = xTr_test.shape\n",
    "# beta = np.zeros(n)\n",
    "# b = np.zeros(1)\n",
    "# loss_val = loss(beta, b, xTr_test, yTr_test, xTr_test, yTr_test, 10, 'rbf')\n",
    "    \n",
    "# print(np.isscalar(loss_val))"
   ]
  },
  {
   "cell_type": "code",
   "execution_count": 12,
   "metadata": {
    "nbgrader": {
     "checksum": "2823ffdc2bbc6dd28a406892661f7171",
     "grade": false,
     "grade_id": "cell-loss-selftest",
     "locked": true,
     "schema_version": 1,
     "solution": false
    }
   },
   "outputs": [
    {
     "name": "stdout",
     "output_type": "stream",
     "text": [
      "Running Test: loss_test1 ... ✔ Passed!\n",
      "Running Test: loss_test2 ... ✔ Passed!\n",
      "Running Test: loss_test3 ... ✔ Passed!\n",
      "Running Test: loss_test4 ... ✔ Passed!\n",
      "Running Test: loss_test5 ... ✔ Passed!\n",
      "Running Test: loss_test6 ... ✔ Passed!\n"
     ]
    }
   ],
   "source": [
    "# These tests test whether your loss() is implemented correctly\n",
    "\n",
    "xTr_test, yTr_test = generate_data()\n",
    "n, d = xTr_test.shape\n",
    "\n",
    "# Check whether your loss() returns a scalar\n",
    "def loss_test1():\n",
    "    beta = np.zeros(n)\n",
    "    b = np.zeros(1)\n",
    "    loss_val = loss(beta, b, xTr_test, yTr_test, xTr_test, yTr_test, 10, 'rbf')\n",
    "    \n",
    "    return np.isscalar(loss_val)\n",
    "\n",
    "\n",
    "# Check whether your loss() returns a nonnegative scalar\n",
    "def loss_test2():\n",
    "    beta = np.random.rand(n)\n",
    "    b = np.random.rand(1)\n",
    "    loss_val = loss(beta, b, xTr_test, yTr_test, xTr_test, yTr_test, 10, 'rbf')\n",
    "    \n",
    "    return loss_val >= 0\n",
    "\n",
    "# Check whether you implement l2-regularizer correctly\n",
    "def loss_test3():\n",
    "    beta = np.random.rand(n)\n",
    "    b = np.random.rand(1)\n",
    "    loss_val = loss(beta, b, xTr_test, yTr_test, xTr_test, yTr_test, 0, 'rbf')\n",
    "    loss_val_grader = loss_grader(beta, b, xTr_test, yTr_test, xTr_test, yTr_test, 0, 'rbf')\n",
    "    \n",
    "    return (np.linalg.norm(loss_val - loss_val_grader) < 1e-5)\n",
    "\n",
    "loss_test3()\n",
    "\n",
    "# Check whether you implement square hinge loss correctly\n",
    "def loss_test4():\n",
    "    beta = np.zeros(n)\n",
    "    b = np.random.rand(1)\n",
    "    loss_val = loss(beta, b, xTr_test, yTr_test, xTr_test, yTr_test, 10, 'rbf')\n",
    "    loss_val_grader = loss_grader(beta, b, xTr_test, yTr_test, xTr_test, yTr_test, 10, 'rbf')\n",
    "    \n",
    "    return (np.linalg.norm(loss_val - loss_val_grader) < 1e-5)\n",
    "\n",
    "# Check whether you implement square hinge loss correctly\n",
    "def loss_test5():\n",
    "    beta = np.zeros(n)\n",
    "    b = np.random.rand(1)\n",
    "    loss_val = loss(beta, b, xTr_test, yTr_test, xTr_test, yTr_test, 10, 'rbf')\n",
    "    loss_val_grader = loss_grader(beta, b, xTr_test, yTr_test, xTr_test, yTr_test, 10, 'rbf')\n",
    "    \n",
    "    return (np.linalg.norm(loss_val - loss_val_grader) < 1e-5)\n",
    "\n",
    "# Check whether you implement loss correctly\n",
    "def loss_test6():\n",
    "    beta = np.zeros(n)\n",
    "    b = np.random.rand(1)\n",
    "    loss_val = loss(beta, b, xTr_test, yTr_test, xTr_test, yTr_test, 100, 'rbf')\n",
    "    loss_val_grader = loss_grader(beta, b, xTr_test, yTr_test, xTr_test, yTr_test, 100, 'rbf')\n",
    "    \n",
    "    return (np.linalg.norm(loss_val - loss_val_grader) < 1e-5)\n",
    "\n",
    "runtest(loss_test1,'loss_test1')\n",
    "runtest(loss_test2,'loss_test2')\n",
    "runtest(loss_test3,'loss_test3')\n",
    "runtest(loss_test4,'loss_test4')\n",
    "runtest(loss_test5,'loss_test5')\n",
    "runtest(loss_test6,'loss_test6')"
   ]
  },
  {
   "cell_type": "code",
   "execution_count": 13,
   "metadata": {
    "nbgrader": {
     "checksum": "e8a8bf4f84c63257cc5027f369297d0c",
     "grade": true,
     "grade_id": "cell-loss-test1",
     "locked": true,
     "points": 1,
     "schema_version": 1,
     "solution": false
    }
   },
   "outputs": [],
   "source": [
    "# Autograder test cell - worth 1 point\n",
    "# runs loss_test1"
   ]
  },
  {
   "cell_type": "code",
   "execution_count": 14,
   "metadata": {
    "nbgrader": {
     "checksum": "8c5cb3e3eadf76dd90def267e635eb40",
     "grade": true,
     "grade_id": "cell-loss-test2",
     "locked": true,
     "points": 1,
     "schema_version": 1,
     "solution": false
    }
   },
   "outputs": [],
   "source": [
    "# Autograder test cell - worth 1 point\n",
    "# runs loss test2"
   ]
  },
  {
   "cell_type": "code",
   "execution_count": 15,
   "metadata": {
    "nbgrader": {
     "checksum": "29108ff977a3e1b6684abcdf4fe5686f",
     "grade": true,
     "grade_id": "cell-loss-test3",
     "locked": true,
     "points": 1,
     "schema_version": 1,
     "solution": false
    }
   },
   "outputs": [],
   "source": [
    "# Autograder test cell - worth 1 point\n",
    "# runs loss test3beta @ kernel_train"
   ]
  },
  {
   "cell_type": "code",
   "execution_count": 16,
   "metadata": {
    "nbgrader": {
     "checksum": "0ada7379e6811b8d2ed8c9a13a469f08",
     "grade": true,
     "grade_id": "cell-loss-test4",
     "locked": true,
     "points": 1,
     "schema_version": 1,
     "solution": false
    }
   },
   "outputs": [],
   "source": [
    "# Autograder test cell - worth 1 point\n",
    "# runs loss test4"
   ]
  },
  {
   "cell_type": "code",
   "execution_count": 17,
   "metadata": {
    "nbgrader": {
     "checksum": "02b8b483e19d5c129f7cc8f2c3cd495a",
     "grade": true,
     "grade_id": "cell-loss-test5",
     "locked": true,
     "points": 1,
     "schema_version": 1,
     "solution": false
    }
   },
   "outputs": [],
   "source": [
    "# Autograder test cell - worth 1 point\n",
    "# runs loss test5"
   ]
  },
  {
   "cell_type": "code",
   "execution_count": 18,
   "metadata": {
    "nbgrader": {
     "checksum": "52d0e4ff5205be1aa4a08460ca8f211f",
     "grade": true,
     "grade_id": "cell-loss-test6",
     "locked": true,
     "points": 1,
     "schema_version": 1,
     "solution": false
    }
   },
   "outputs": [],
   "source": [
    "# Autograder test cell - worth 1 point\n",
    "# runs loss test6"
   ]
  },
  {
   "cell_type": "markdown",
   "metadata": {
    "nbgrader": {
     "checksum": "71b919429830619a8df0d7a746949660",
     "grade": false,
     "grade_id": "cell-349f46a1eb425985",
     "locked": true,
     "schema_version": 1,
     "solution": false
    }
   },
   "source": [
    "### Part Three: Compute Gradient [Graded]\n",
    "\n",
    "Now, you will need to implement function `grad`, that computes the gradient of the loss function, similarly to what you needed to do in the Linear SVM project. This function has the same input parameters as `loss` and requires the gradient with respect to $\\beta$ (`beta_grad`) and $b$ (`bgrad`). Remember that the squared hinge loss is calculated with $K_{train}$ when training, and $K_{test}$ when testing. In the code, you can represent this by using the variables associated with testing (i.e. `xTe`, `yTe`, and `k_test`), since they will contain training data if you are training the SVM.\n",
    "\n",
    "Recall the expression for loss from above. First we take the derivative with respect to $\\beta$:\n",
    "$$\n",
    "      \\frac{\\partial \\mathcal L}{\\partial \\mathbf \\beta} =  2{K_{train} \\mathbf{\\beta}} +  C\\  \\sum_{i=1}^{n}{ 2 \\max\\left [ 1-y_{i}(\\mathbf{\\beta}^T K_{test}[i]+b),0 \\right ] (-y_i K_{test}[i])}\n",
    "$$\n",
    "Then, with respect to $b$:\n",
    "$$\n",
    "      \\frac{\\partial \\mathcal L}{\\delta b} =  C\\  \\sum_{i=1}^{n}{ 2 \\max\\left [ 1-y_{i}(\\mathbf{\\beta}^T K_{test}[i]+b),0 \\right ] (-y_i)}\n",
    "$$\n"
   ]
  },
  {
   "cell_type": "code",
   "execution_count": 30,
   "metadata": {
    "nbgrader": {
     "checksum": "274ba7ab2c5682b4e4589adb75d38a57",
     "grade": false,
     "grade_id": "cell-grad",
     "locked": false,
     "schema_version": 1,
     "solution": true
    }
   },
   "outputs": [
    {
     "name": "stdout",
     "output_type": "stream",
     "text": [
      "(100,)\n",
      "()\n",
      "False True\n"
     ]
    }
   ],
   "source": [
    "def grad(beta, b, xTr, yTr, xTe, yTe, C, kerneltype, kpar=1):\n",
    "    \"\"\"\n",
    "    INPUT:\n",
    "    beta : n dimensional vector that stores the linear combination coefficient\n",
    "    xTr   : nxd dimensional matrix (training set, each row is an input vector)\n",
    "    yTr   : n   dimensional vector (training label, each entry is a label)\n",
    "    b     : scalar (bias)\n",
    "    xTe   : mxd dimensional matrix (test set, each row is an input vector)\n",
    "    yTe   : m dimensional vector (test label, each entry is a label)\n",
    "    C     : scalar (constant that controls the tradeoff between l2-regularizer and hinge-loss)\n",
    "    kerneltype: either 'linear','polynomial','rbf'\n",
    "    kpar  : kernel parameter (inverse kernel width gamma in case of RBF, degree in case of polynomial)\n",
    "    \n",
    "    \n",
    "    OUTPUTS:\n",
    "    beta_grad :  n dimensional vector (the gradient of the hinge loss with respect to the alphas)\n",
    "    bgrad :  constant (the gradient of he hinge loss with respect to the bias, b)\n",
    "    \"\"\"\n",
    "    \n",
    "    n, d = xTr.shape\n",
    "    \n",
    "    beta_grad = np.zeros(n)\n",
    "    bgrad = np.zeros(1)\n",
    "    \n",
    "    # compute the kernel values between xTr and xTr \n",
    "    kernel_train = computeK(kerneltype, xTr, xTr, kpar)\n",
    "    # compute the kernel values between xTe and xTr\n",
    "    kernel_test = computeK(kerneltype, xTe, xTr, kpar)\n",
    "    \n",
    "    # YOUR CODE HERE\n",
    "\n",
    "    beta_grad = 2*kernel_test@beta + C *np.sum(2*np.maximum(1- yTe*(beta.T@kernel_test + b),0)*(-yTe*kernel_test))\n",
    "    \n",
    "    bgrad = C *np.sum(2*np.maximum(1- yTe*(beta.T@kernel_test + b),0)*-yTe)\n",
    "    \n",
    "    print(beta_grad.shape)\n",
    "    print(bgrad.shape)\n",
    "    \n",
    "    \n",
    "    #raise NotImplementedError()\n",
    "    return beta_grad, bgrad\n",
    "xTr_test, yTr_test = generate_data()\n",
    "n, d = xTr_test.shape\n",
    "beta = np.zeros(n)\n",
    "b = np.random.rand(1)\n",
    "beta_grad, bgrad = grad(beta, b, xTr_test, yTr_test, xTr_test, yTr_test, 1, 'rbf')\n",
    "beta_grad_grader, bgrad_grader = grad_grader(beta, b, xTr_test, yTr_test, xTr_test, yTr_test, 1, 'rbf')\n",
    "print((np.linalg.norm(beta_grad - beta_grad_grader) < 1e-5), (np.linalg.norm(bgrad - bgrad_grader) < 1e-5))\n"
   ]
  },
  {
   "cell_type": "code",
   "execution_count": 31,
   "metadata": {
    "nbgrader": {
     "checksum": "4c1a519832c2737297578a689d9ae085",
     "grade": false,
     "grade_id": "cell-grad-selftest",
     "locked": true,
     "schema_version": 1,
     "solution": false
    }
   },
   "outputs": [
    {
     "name": "stdout",
     "output_type": "stream",
     "text": [
      "Running Test: grad_test1 ... (100,)\n",
      "()\n",
      "✔ Passed!\n",
      "Running Test: grad_test2 ... (100,)\n",
      "()\n",
      "✔ Passed!\n",
      "Running Test: grad_test3 ... (100,)\n",
      "()\n",
      "✔ Passed!\n",
      "Running Test: grad_test4 ... (100,)\n",
      "()\n",
      "✖ Failed!\n",
      " The output of your function does not match the expected output. Check your code and try again.\n",
      "Running Test: grad_test5 ... (100,)\n",
      "()\n",
      "✖ Failed!\n",
      " The output of your function does not match the expected output. Check your code and try again.\n"
     ]
    }
   ],
   "source": [
    "# These tests test whether your grad() is implemented correctly\n",
    "\n",
    "xTr_test, yTr_test = generate_data()\n",
    "n, d = xTr_test.shape\n",
    "\n",
    "# Checks whether grad returns a tuple\n",
    "def grad_test1():\n",
    "    beta = np.random.rand(n)\n",
    "    b = np.random.rand(1)\n",
    "    out = grad(beta, b, xTr_test, yTr_test, xTr_test, yTr_test, 10, 'rbf')\n",
    "    return len(out) == 2\n",
    "\n",
    "# Checks the dimension of gradients\n",
    "def grad_test2():\n",
    "    beta = np.random.rand(n)\n",
    "    b = np.random.rand(1)\n",
    "    beta_grad, bgrad = grad(beta, b, xTr_test, yTr_test, xTr_test, yTr_test, 10, 'rbf')\n",
    "    return len(beta_grad) == n and np.isscalar(bgrad)\n",
    "\n",
    "# Checks the gradient of the l2 regularizer\n",
    "def grad_test3():\n",
    "    beta = np.random.rand(n)\n",
    "    b = np.random.rand(1)\n",
    "    beta_grad, bgrad = grad(beta, b, xTr_test, yTr_test, xTr_test, yTr_test, 0, 'rbf')\n",
    "    beta_grad_grader, bgrad_grader = grad_grader(beta, b, xTr_test, yTr_test, xTr_test, yTr_test, 0, 'rbf')\n",
    "    return (np.linalg.norm(beta_grad - beta_grad_grader) < 1e-5) and \\\n",
    "        (np.linalg.norm(bgrad - bgrad_grader) < 1e-5)\n",
    "\n",
    "# Checks the gradient of the square hinge loss\n",
    "def grad_test4():\n",
    "    beta = np.zeros(n)\n",
    "    b = np.random.rand(1)\n",
    "    beta_grad, bgrad = grad(beta, b, xTr_test, yTr_test, xTr_test, yTr_test, 1, 'rbf')\n",
    "    beta_grad_grader, bgrad_grader = grad_grader(beta, b, xTr_test, yTr_test, xTr_test, yTr_test, 1, 'rbf')\n",
    "    return (np.linalg.norm(beta_grad - beta_grad_grader) < 1e-5) and \\\n",
    "        (np.linalg.norm(bgrad - bgrad_grader) < 1e-5)\n",
    "\n",
    "# Checks the gradient of the loss\n",
    "def grad_test5():\n",
    "    beta = np.random.rand(n)\n",
    "    b = np.random.rand(1)\n",
    "    beta_grad, bgrad = grad(beta, b, xTr_test, yTr_test, xTr_test, yTr_test, 10, 'rbf')\n",
    "    beta_grad_grader, bgrad_grader = grad_grader(beta, b, xTr_test, yTr_test, xTr_test, yTr_test, 10, 'rbf')\n",
    "    return (np.linalg.norm(beta_grad - beta_grad_grader) < 1e-5) and \\\n",
    "        (np.linalg.norm(bgrad - bgrad_grader) < 1e-5)\n",
    "\n",
    "runtest(grad_test1, 'grad_test1')\n",
    "runtest(grad_test2, 'grad_test2')\n",
    "runtest(grad_test3, 'grad_test3')\n",
    "runtest(grad_test4, 'grad_test4')\n",
    "runtest(grad_test5, 'grad_test5')"
   ]
  },
  {
   "cell_type": "code",
   "execution_count": 21,
   "metadata": {
    "nbgrader": {
     "checksum": "e6a5e50adcf9780a271d1d05c561fdaf",
     "grade": true,
     "grade_id": "cell-grad-test1",
     "locked": true,
     "points": 1,
     "schema_version": 1,
     "solution": false
    }
   },
   "outputs": [],
   "source": [
    "# Autograder test cell - worth 1 point\n",
    "# runs grad test1"
   ]
  },
  {
   "cell_type": "code",
   "execution_count": null,
   "metadata": {
    "nbgrader": {
     "checksum": "9092ccd637ef0692daf56b2d73f025a4",
     "grade": true,
     "grade_id": "cell-grad-test2",
     "locked": true,
     "points": 1,
     "schema_version": 1,
     "solution": false
    }
   },
   "outputs": [],
   "source": [
    "# Autograder test cell - worth 1 point\n",
    "# runs grad test2"
   ]
  },
  {
   "cell_type": "code",
   "execution_count": null,
   "metadata": {
    "nbgrader": {
     "checksum": "49eef008dacc9d50d1e58f47be24cceb",
     "grade": true,
     "grade_id": "cell-grad-test3",
     "locked": true,
     "points": 1,
     "schema_version": 1,
     "solution": false
    }
   },
   "outputs": [],
   "source": [
    "# Autograder test cell - worth 1 point\n",
    "# runs grad test3"
   ]
  },
  {
   "cell_type": "code",
   "execution_count": null,
   "metadata": {
    "nbgrader": {
     "checksum": "f0f17b5b6aa3d7e8cd72fb7fc4601e18",
     "grade": true,
     "grade_id": "cell-grad-test4",
     "locked": true,
     "points": 1,
     "schema_version": 1,
     "solution": false
    }
   },
   "outputs": [],
   "source": [
    "# Autograder test cell - worth 1 point\n",
    "# runs grad test4"
   ]
  },
  {
   "cell_type": "code",
   "execution_count": null,
   "metadata": {
    "nbgrader": {
     "checksum": "9868abc360f647a4d380736d02d8dc84",
     "grade": true,
     "grade_id": "cell-grad-test5",
     "locked": true,
     "points": 1,
     "schema_version": 1,
     "solution": false
    }
   },
   "outputs": [],
   "source": [
    "# Autograder test cell - worth 1 point\n",
    "# runs grad test5"
   ]
  },
  {
   "cell_type": "markdown",
   "metadata": {},
   "source": [
    "## Test the Kernelized Algorithm"
   ]
  },
  {
   "cell_type": "markdown",
   "metadata": {
    "nbgrader": {
     "checksum": "4c4d8c09ffbf9120e11ee6f4a3394896",
     "grade": false,
     "grade_id": "cell-7ad9af17accaddf0",
     "locked": true,
     "schema_version": 1,
     "solution": false
    }
   },
   "source": [
    "Using the cell below, you can call the optimization routine that we have implemented for you to see the final loss of your model. "
   ]
  },
  {
   "cell_type": "code",
   "execution_count": null,
   "metadata": {
    "nbgrader": {
     "checksum": "3fbef25ee0141412860201fb3fbba70b",
     "grade": false,
     "grade_id": "cell-fa26a32043f70279",
     "locked": true,
     "schema_version": 1,
     "solution": false
    }
   },
   "outputs": [],
   "source": [
    "beta_sol, bias_sol, final_loss = minimize(objective=loss, grad=grad, xTr=xTr, yTr=yTr, C=1000, kerneltype='linear', kpar=1)\n",
    "print('The Final Loss of your model is: {:0.4f}'.format(final_loss))"
   ]
  },
  {
   "cell_type": "markdown",
   "metadata": {
    "nbgrader": {
     "checksum": "969d1816c68107fd6e4b0a97e848fd79",
     "grade": false,
     "grade_id": "cell-8e81c269f495b733",
     "locked": true,
     "schema_version": 1,
     "solution": false
    }
   },
   "source": [
    "If everything is implemented correctly, you should be able to get a training error of zero when you run the following cell."
   ]
  },
  {
   "cell_type": "code",
   "execution_count": null,
   "metadata": {
    "nbgrader": {
     "checksum": "fd399d2efdadd3da916d754190cd296e",
     "grade": false,
     "grade_id": "cell-20ca56dcce47a510",
     "locked": true,
     "schema_version": 1,
     "solution": false
    }
   },
   "outputs": [],
   "source": [
    "svmclassify = lambda x: np.sign(computeK('linear', x, xTr, 1).dot(beta_sol) + bias_sol)\n",
    "\n",
    "predsTr=svmclassify(xTr)\n",
    "trainingerr=np.mean(np.sign(predsTr)!=yTr)\n",
    "print(\"Training error: %2.4f\" % trainingerr)"
   ]
  },
  {
   "cell_type": "markdown",
   "metadata": {
    "nbgrader": {
     "checksum": "d42a7b6df0a29f387b4e162d68f3b909",
     "grade": false,
     "grade_id": "cell-d7214490d41e9d20",
     "locked": true,
     "schema_version": 1,
     "solution": false
    }
   },
   "source": [
    "<h3>Visualize the Decision Boundary</h3>\n",
    "\n",
    "Also, when you visualize the classifier, you should see a max margin separator."
   ]
  },
  {
   "cell_type": "code",
   "execution_count": null,
   "metadata": {
    "nbgrader": {
     "checksum": "dbb14f7b31b7bc70090dd8e6a4b6364e",
     "grade": false,
     "grade_id": "cell-e0f813d39a20941d",
     "locked": true,
     "schema_version": 1,
     "solution": false
    }
   },
   "outputs": [],
   "source": [
    "%matplotlib notebook\n",
    "visclassifier(svmclassify, xTr, yTr)"
   ]
  },
  {
   "cell_type": "markdown",
   "metadata": {
    "nbgrader": {
     "checksum": "b2d9ad8aa8f8309e1e1750341e3850f9",
     "grade": false,
     "grade_id": "cell-f922d756ef836ee9",
     "locked": true,
     "schema_version": 1,
     "solution": false
    }
   },
   "source": [
    "Let's visualize a different kind of nonlinear data, a spiral dataset."
   ]
  },
  {
   "cell_type": "code",
   "execution_count": null,
   "metadata": {
    "nbgrader": {
     "checksum": "1df147ff056c225f6f976be84300be17",
     "grade": false,
     "grade_id": "cell-c69bc918b0db1293",
     "locked": true,
     "schema_version": 1,
     "solution": false
    }
   },
   "outputs": [],
   "source": [
    "xTr_spiral,yTr_spiral,xTe_spiral,yTe_spiral = spiraldata()\n",
    "\n",
    "%matplotlib notebook\n",
    "visualize_2D(xTr_spiral, yTr_spiral)"
   ]
  },
  {
   "cell_type": "markdown",
   "metadata": {
    "nbgrader": {
     "checksum": "4a7b22eebbbb2cd8130aa96efc749250",
     "grade": false,
     "grade_id": "cell-89594e6378c785cb",
     "locked": true,
     "schema_version": 1,
     "solution": false
    }
   },
   "source": [
    "Since the dataset is nonlinear, we are going to use the rbf kernel."
   ]
  },
  {
   "cell_type": "code",
   "execution_count": null,
   "metadata": {
    "nbgrader": {
     "checksum": "4bcc6e72296c2754bdffac09886062b3",
     "grade": false,
     "grade_id": "cell-f4114c6db1b51e2c",
     "locked": true,
     "schema_version": 1,
     "solution": false
    }
   },
   "outputs": [],
   "source": [
    "beta_sol_spiral, bias_sol_spiral, final_loss_spiral = minimize(objective=loss, grad=grad, xTr=xTr_spiral, yTr=yTr_spiral, C=100, kerneltype='rbf', kpar=1)\n",
    "print('The Final Loss of your model is: {:0.4f}'.format(final_loss_spiral))"
   ]
  },
  {
   "cell_type": "markdown",
   "metadata": {
    "nbgrader": {
     "checksum": "3024813dcdb212a3e6c40b87b6128d64",
     "grade": false,
     "grade_id": "cell-28c6cee7c68d04e9",
     "locked": true,
     "schema_version": 1,
     "solution": false
    }
   },
   "source": [
    "If you do everything correctly, your training error and test error should both be zero!"
   ]
  },
  {
   "cell_type": "code",
   "execution_count": null,
   "metadata": {
    "nbgrader": {
     "checksum": "25a221d777e6a1d4838b9449fd33c46e",
     "grade": false,
     "grade_id": "cell-16357e4762b8370b",
     "locked": true,
     "schema_version": 1,
     "solution": false
    }
   },
   "outputs": [],
   "source": [
    "svmclassify_spiral = lambda x: np.sign(computeK('rbf', xTr_spiral, x, 1).transpose().dot(beta_sol_spiral) + bias_sol_spiral)\n",
    "\n",
    "predsTr_spiral = svmclassify_spiral(xTr_spiral)\n",
    "trainingerr_spiral = np.mean(predsTr_spiral != yTr_spiral)\n",
    "print(\"Training error: %2.4f\" % trainingerr_spiral)\n",
    "\n",
    "predsTe_spiral = svmclassify_spiral(xTe_spiral)\n",
    "testerr_spiral = np.mean(predsTe_spiral != yTe_spiral)\n",
    "print(\"Test error: %2.4f\" % testerr_spiral)"
   ]
  },
  {
   "cell_type": "markdown",
   "metadata": {
    "nbgrader": {
     "checksum": "5258391aaa1011f9114a967201e65783",
     "grade": false,
     "grade_id": "cell-52cb1b9aae3993cb",
     "locked": true,
     "schema_version": 1,
     "solution": false
    }
   },
   "source": [
    "Now, let's visualize the classifier on the spiral dataset!"
   ]
  },
  {
   "cell_type": "code",
   "execution_count": null,
   "metadata": {
    "nbgrader": {
     "checksum": "3ed86f72e1c71972c4248d46c6221ad1",
     "grade": false,
     "grade_id": "cell-40d1227ae7bf20e6",
     "locked": true,
     "schema_version": 1,
     "solution": false
    }
   },
   "outputs": [],
   "source": [
    "visclassifier(svmclassify_spiral, xTr_spiral, yTr_spiral)"
   ]
  },
  {
   "cell_type": "markdown",
   "metadata": {
    "nbgrader": {
     "checksum": "92802bb8686f9f8c5ae50283635cec52",
     "grade": false,
     "grade_id": "cell-bf3cce5e4e644ea2",
     "locked": true,
     "schema_version": 1,
     "solution": false
    }
   },
   "source": [
    "<h3>Interactive Demo</h3>\n",
    "\n",
    "Running the code below will create an interactive window where you can click to add new data points to see how a kernel SVM with RBF kernel will respond. There may be a significant delay between clicks."
   ]
  },
  {
   "cell_type": "code",
   "execution_count": null,
   "metadata": {
    "nbgrader": {
     "checksum": "2d05d006a1895e81a2b59293b3fe1261",
     "grade": false,
     "grade_id": "cell-a0d798f051f76bad",
     "locked": true,
     "schema_version": 1,
     "solution": false
    }
   },
   "outputs": [],
   "source": [
    "Xdata = []\n",
    "ldata = []\n",
    "svmC=10;\n",
    "\n",
    "fig = plt.figure()\n",
    "details = {\n",
    "    'ax': fig.add_subplot(111), \n",
    "}\n",
    "\n",
    "plt.xlim(0,1)\n",
    "plt.ylim(0,1)\n",
    "plt.title('Click to add positive point and shift+click to add negative points.')\n",
    "\n",
    "def vis2(fun,xTr,yTr):\n",
    "    yTr = np.array(yTr).flatten()\n",
    "    symbols = [\"ko\",\"kx\"]\n",
    "    marker_symbols = ['o', 'x']\n",
    "    mycolors = [[0.5, 0.5, 1], [1, 0.5, 0.5]]\n",
    "    classvals = np.unique(yTr)\n",
    "    res=150\n",
    "    xrange = np.linspace(0,1,res)\n",
    "    yrange = np.linspace(0,1,res)\n",
    "    pixelX = repmat(xrange, res, 1)\n",
    "    pixelY = repmat(yrange, res, 1).T\n",
    "    xTe = np.array([pixelX.flatten(), pixelY.flatten()]).T\n",
    "    testpreds = fun(xTe)\n",
    "    Z = testpreds.reshape(res, res)\n",
    "    plt.contourf(pixelX, pixelY, np.sign(Z), colors=mycolors)\n",
    "\n",
    "    for idx, c in enumerate(classvals):\n",
    "        plt.scatter(xTr[yTr == c,0],\n",
    "            xTr[yTr == c,1],\n",
    "            marker=marker_symbols[idx],\n",
    "            color='k'\n",
    "           )\n",
    "    plt.show()\n",
    "\n",
    "\n",
    "def generate_onclick(Xdata, ldata):    \n",
    "    global details\n",
    "    def onclick(event):\n",
    "        if event.key == 'shift': \n",
    "            # add positive point\n",
    "            details['ax'].plot(event.xdata,event.ydata,'or')\n",
    "            label = 1\n",
    "        else: # add negative point\n",
    "            details['ax'].plot(event.xdata,event.ydata,'ob')\n",
    "            label = -1    \n",
    "        pos = np.array([event.xdata, event.ydata])\n",
    "        ldata.append(label)\n",
    "        Xdata.append(pos)\n",
    "        \n",
    "        X=np.array(Xdata)\n",
    "        Y=np.array(ldata)\n",
    "        beta_sol, bias_sol, final_loss = minimize(objective=loss, grad=grad, xTr=X, yTr=Y, C=svmC, kerneltype='rbf', kpar=1)\n",
    "        svmclassify_demo = lambda x: np.sign(computeK('rbf', X, x, 1).transpose().dot(beta_sol) + bias_sol)\n",
    "        vis2(svmclassify_demo, X, Y)    \n",
    "    return onclick\n",
    "\n",
    "\n",
    "cid = fig.canvas.mpl_connect('button_press_event', generate_onclick(Xdata, ldata))\n",
    "plt.show()"
   ]
  }
 ],
 "metadata": {
  "kernelspec": {
   "display_name": "Python 3",
   "language": "python",
   "name": "python3"
  },
  "language_info": {
   "codemirror_mode": {
    "name": "ipython",
    "version": 3
   },
   "file_extension": ".py",
   "mimetype": "text/x-python",
   "name": "python",
   "nbconvert_exporter": "python",
   "pygments_lexer": "ipython3",
   "version": "3.6.8"
  }
 },
 "nbformat": 4,
 "nbformat_minor": 4
}
